{
 "cells": [
  {
   "cell_type": "markdown",
   "metadata": {
    "id": "opfljCwUWcR_"
   },
   "source": [
    "# Multi-Label Text Classification"
   ]
  },
  {
   "cell_type": "code",
   "execution_count": 1,
   "metadata": {
    "id": "k11H4RZnWNsl"
   },
   "outputs": [],
   "source": [
    "import pandas as pd\n",
    "import numpy as np"
   ]
  },
  {
   "cell_type": "code",
   "execution_count": 2,
   "metadata": {
    "colab": {
     "base_uri": "https://localhost:8080/"
    },
    "id": "9jbpzLqqV6g_",
    "outputId": "3cb791b5-afaf-4802-f2e0-ed71c17ccb69"
   },
   "outputs": [
    {
     "name": "stdout",
     "output_type": "stream",
     "text": [
      "Requirement already satisfied: requests in /usr/local/lib/python3.7/dist-packages (2.23.0)\n",
      "Requirement already satisfied: urllib3!=1.25.0,!=1.25.1,<1.26,>=1.21.1 in /usr/local/lib/python3.7/dist-packages (from requests) (1.24.3)\n",
      "Requirement already satisfied: idna<3,>=2.5 in /usr/local/lib/python3.7/dist-packages (from requests) (2.10)\n",
      "Requirement already satisfied: chardet<4,>=3.0.2 in /usr/local/lib/python3.7/dist-packages (from requests) (3.0.4)\n",
      "Requirement already satisfied: certifi>=2017.4.17 in /usr/local/lib/python3.7/dist-packages (from requests) (2020.12.5)\n"
     ]
    }
   ],
   "source": [
    "!pip install requests\n",
    "import requests\n",
    "\n",
    "req = requests.get('https://raw.githubusercontent.com/laxmimerit/All-CSV-ML-Data-Files-Download/master/stackoverflow.csv')\n",
    "url_content = req.content\n",
    "csv_file = open('/content/downloaded.csv', 'wb')"
   ]
  },
  {
   "cell_type": "code",
   "execution_count": 3,
   "metadata": {
    "id": "QCseTMh2YrGd"
   },
   "outputs": [],
   "source": [
    "from sklearn.feature_extraction.text import TfidfVectorizer\n",
    "from sklearn.preprocessing import MultiLabelBinarizer\n",
    "from sklearn.model_selection import train_test_split\n",
    "\n",
    "from sklearn.linear_model import SGDClassifier\n",
    "from sklearn.linear_model import LogisticRegression\n",
    "from sklearn.svm import LinearSVC\n",
    "\n",
    "from sklearn.multiclass import OneVsRestClassifier"
   ]
  },
  {
   "cell_type": "code",
   "execution_count": 4,
   "metadata": {
    "id": "XRvA2ziTKJC_"
   },
   "outputs": [],
   "source": [
    "import matplotlib.pyplot as plt\n",
    "import tensorflow as tf\n",
    "import seaborn as sns\n",
    "import pickle\n",
    "import random"
   ]
  },
  {
   "cell_type": "code",
   "execution_count": 23,
   "metadata": {
    "id": "KzsNMlmDWkLo"
   },
   "outputs": [],
   "source": [
    "df = pd.read_csv('/content/Bugs1.csv',index_col=0)"
   ]
  },
  {
   "cell_type": "code",
   "execution_count": 24,
   "metadata": {
    "colab": {
     "base_uri": "https://localhost:8080/",
     "height": 204
    },
    "id": "MMfpoPOKWtWP",
    "outputId": "b1145c38-5ccb-42b2-d9ca-df74ddf13a39"
   },
   "outputs": [
    {
     "data": {
      "text/html": [
       "<div>\n",
       "<style scoped>\n",
       "    .dataframe tbody tr th:only-of-type {\n",
       "        vertical-align: middle;\n",
       "    }\n",
       "\n",
       "    .dataframe tbody tr th {\n",
       "        vertical-align: top;\n",
       "    }\n",
       "\n",
       "    .dataframe thead th {\n",
       "        text-align: right;\n",
       "    }\n",
       "</style>\n",
       "<table border=\"1\" class=\"dataframe\">\n",
       "  <thead>\n",
       "    <tr style=\"text-align: right;\">\n",
       "      <th></th>\n",
       "      <th>Text</th>\n",
       "      <th>Tags</th>\n",
       "    </tr>\n",
       "  </thead>\n",
       "  <tbody>\n",
       "    <tr>\n",
       "      <th>1</th>\n",
       "      <td>My payment got failed many times when tried to...</td>\n",
       "      <td>['Payment Failure', 'Severity High']</td>\n",
       "    </tr>\n",
       "    <tr>\n",
       "      <th>2</th>\n",
       "      <td>My screen is getting struck</td>\n",
       "      <td>['UX/UI', 'Severity Low']</td>\n",
       "    </tr>\n",
       "    <tr>\n",
       "      <th>3</th>\n",
       "      <td>could not complete payment process</td>\n",
       "      <td>['Payment Failure', 'Severity Low']</td>\n",
       "    </tr>\n",
       "    <tr>\n",
       "      <th>4</th>\n",
       "      <td>Could not create login id</td>\n",
       "      <td>['Login Failure' ,'Severity Low']</td>\n",
       "    </tr>\n",
       "    <tr>\n",
       "      <th>5</th>\n",
       "      <td>Failed to create login id many times</td>\n",
       "      <td>['Login Failure', 'Severity High']</td>\n",
       "    </tr>\n",
       "  </tbody>\n",
       "</table>\n",
       "</div>"
      ],
      "text/plain": [
       "                                                Text                                  Tags\n",
       "1  My payment got failed many times when tried to...  ['Payment Failure', 'Severity High']\n",
       "2                        My screen is getting struck             ['UX/UI', 'Severity Low']\n",
       "3                could not complete payment process    ['Payment Failure', 'Severity Low']\n",
       "4                          Could not create login id     ['Login Failure' ,'Severity Low']\n",
       "5               Failed to create login id many times    ['Login Failure', 'Severity High']"
      ]
     },
     "execution_count": 24,
     "metadata": {
      "tags": []
     },
     "output_type": "execute_result"
    }
   ],
   "source": [
    "df.head()"
   ]
  },
  {
   "cell_type": "code",
   "execution_count": 25,
   "metadata": {
    "colab": {
     "base_uri": "https://localhost:8080/"
    },
    "id": "qX9JSto8W5Ow",
    "outputId": "20969f00-61a1-4e15-ba06-8286eb37a79e"
   },
   "outputs": [
    {
     "data": {
      "text/plain": [
       "str"
      ]
     },
     "execution_count": 25,
     "metadata": {
      "tags": []
     },
     "output_type": "execute_result"
    }
   ],
   "source": [
    "type(df['Tags'].iloc[0])"
   ]
  },
  {
   "cell_type": "code",
   "execution_count": 26,
   "metadata": {
    "id": "U0TtipMEXp0u"
   },
   "outputs": [],
   "source": [
    "import ast"
   ]
  },
  {
   "cell_type": "code",
   "execution_count": 27,
   "metadata": {
    "colab": {
     "base_uri": "https://localhost:8080/",
     "height": 35
    },
    "id": "6QGLqMqEX4BI",
    "outputId": "9938f98c-80eb-49d0-e12f-38a6234fe62e"
   },
   "outputs": [
    {
     "data": {
      "application/vnd.google.colaboratory.intrinsic+json": {
       "type": "string"
      },
      "text/plain": [
       "\"['Payment Failure', 'Severity High']\""
      ]
     },
     "execution_count": 27,
     "metadata": {
      "tags": []
     },
     "output_type": "execute_result"
    }
   ],
   "source": [
    "df['Tags'].iloc[0]"
   ]
  },
  {
   "cell_type": "code",
   "execution_count": 28,
   "metadata": {
    "colab": {
     "base_uri": "https://localhost:8080/"
    },
    "id": "C3nhefdAXw1G",
    "outputId": "b08d5eef-75a0-4e74-ec55-bb1731ff028f"
   },
   "outputs": [
    {
     "data": {
      "text/plain": [
       "['Payment Failure', 'Severity High']"
      ]
     },
     "execution_count": 28,
     "metadata": {
      "tags": []
     },
     "output_type": "execute_result"
    }
   ],
   "source": [
    "ast.literal_eval(df['Tags'].iloc[0])"
   ]
  },
  {
   "cell_type": "code",
   "execution_count": 29,
   "metadata": {
    "id": "t0k6MitFX2VV"
   },
   "outputs": [],
   "source": [
    "df['Tags'] = df['Tags'].apply(lambda x: ast.literal_eval(x))"
   ]
  },
  {
   "cell_type": "code",
   "execution_count": 30,
   "metadata": {
    "colab": {
     "base_uri": "https://localhost:8080/",
     "height": 204
    },
    "id": "zm1H2o-6YKlg",
    "outputId": "02a04676-cf00-4164-c23d-bd8e82edcbb6"
   },
   "outputs": [
    {
     "data": {
      "text/html": [
       "<div>\n",
       "<style scoped>\n",
       "    .dataframe tbody tr th:only-of-type {\n",
       "        vertical-align: middle;\n",
       "    }\n",
       "\n",
       "    .dataframe tbody tr th {\n",
       "        vertical-align: top;\n",
       "    }\n",
       "\n",
       "    .dataframe thead th {\n",
       "        text-align: right;\n",
       "    }\n",
       "</style>\n",
       "<table border=\"1\" class=\"dataframe\">\n",
       "  <thead>\n",
       "    <tr style=\"text-align: right;\">\n",
       "      <th></th>\n",
       "      <th>Text</th>\n",
       "      <th>Tags</th>\n",
       "    </tr>\n",
       "  </thead>\n",
       "  <tbody>\n",
       "    <tr>\n",
       "      <th>1</th>\n",
       "      <td>My payment got failed many times when tried to...</td>\n",
       "      <td>[Payment Failure, Severity High]</td>\n",
       "    </tr>\n",
       "    <tr>\n",
       "      <th>2</th>\n",
       "      <td>My screen is getting struck</td>\n",
       "      <td>[UX/UI, Severity Low]</td>\n",
       "    </tr>\n",
       "    <tr>\n",
       "      <th>3</th>\n",
       "      <td>could not complete payment process</td>\n",
       "      <td>[Payment Failure, Severity Low]</td>\n",
       "    </tr>\n",
       "    <tr>\n",
       "      <th>4</th>\n",
       "      <td>Could not create login id</td>\n",
       "      <td>[Login Failure, Severity Low]</td>\n",
       "    </tr>\n",
       "    <tr>\n",
       "      <th>5</th>\n",
       "      <td>Failed to create login id many times</td>\n",
       "      <td>[Login Failure, Severity High]</td>\n",
       "    </tr>\n",
       "  </tbody>\n",
       "</table>\n",
       "</div>"
      ],
      "text/plain": [
       "                                                Text                              Tags\n",
       "1  My payment got failed many times when tried to...  [Payment Failure, Severity High]\n",
       "2                        My screen is getting struck             [UX/UI, Severity Low]\n",
       "3                could not complete payment process    [Payment Failure, Severity Low]\n",
       "4                          Could not create login id     [Login Failure, Severity Low]\n",
       "5               Failed to create login id many times    [Login Failure, Severity High]"
      ]
     },
     "execution_count": 30,
     "metadata": {
      "tags": []
     },
     "output_type": "execute_result"
    }
   ],
   "source": [
    "df.head()"
   ]
  },
  {
   "cell_type": "code",
   "execution_count": 31,
   "metadata": {
    "colab": {
     "base_uri": "https://localhost:8080/"
    },
    "id": "Nx-dp1eDYM1w",
    "outputId": "4f17a94d-a03e-4343-dde6-dd2ca89ca87a"
   },
   "outputs": [
    {
     "data": {
      "text/plain": [
       "1     [Payment Failure, Severity High]\n",
       "2                [UX/UI, Severity Low]\n",
       "3      [Payment Failure, Severity Low]\n",
       "4        [Login Failure, Severity Low]\n",
       "5       [Login Failure, Severity High]\n",
       "                    ...               \n",
       "60     [Payment Failure, Severity Low]\n",
       "61     [Password error, Severity High]\n",
       "62      [Login Failure, Severity High]\n",
       "63               [UX/UI, Severity Low]\n",
       "64    [Payment Failure, Severity High]\n",
       "Name: Tags, Length: 64, dtype: object"
      ]
     },
     "execution_count": 31,
     "metadata": {
      "tags": []
     },
     "output_type": "execute_result"
    }
   ],
   "source": [
    "y = df['Tags']\n",
    "y"
   ]
  },
  {
   "cell_type": "code",
   "execution_count": 32,
   "metadata": {
    "id": "YgmJ6EABZUkq"
   },
   "outputs": [],
   "source": [
    "multilabel = MultiLabelBinarizer()"
   ]
  },
  {
   "cell_type": "code",
   "execution_count": 33,
   "metadata": {
    "id": "xDVWON_1ZUqW"
   },
   "outputs": [],
   "source": [
    "y = multilabel.fit_transform(df['Tags'])"
   ]
  },
  {
   "cell_type": "code",
   "execution_count": 34,
   "metadata": {
    "colab": {
     "base_uri": "https://localhost:8080/"
    },
    "id": "rAMLNd6-ZU39",
    "outputId": "12e93949-4fb4-4622-8b87-3487b3c48052"
   },
   "outputs": [
    {
     "data": {
      "text/plain": [
       "array([[0, 0, 0, 1, 1, 0, 0],\n",
       "       [0, 0, 0, 0, 0, 1, 1],\n",
       "       [0, 0, 0, 1, 0, 1, 0],\n",
       "       [1, 0, 0, 0, 0, 1, 0],\n",
       "       [1, 0, 0, 0, 1, 0, 0],\n",
       "       [0, 0, 0, 0, 1, 0, 1],\n",
       "       [0, 1, 0, 0, 0, 1, 0],\n",
       "       [0, 1, 0, 0, 1, 0, 0],\n",
       "       [1, 0, 0, 0, 1, 0, 0],\n",
       "       [0, 0, 0, 0, 0, 1, 1],\n",
       "       [1, 0, 0, 0, 0, 1, 0],\n",
       "       [0, 0, 0, 0, 0, 1, 1],\n",
       "       [1, 0, 0, 0, 1, 0, 0],\n",
       "       [0, 1, 0, 0, 0, 1, 0],\n",
       "       [1, 0, 0, 0, 1, 0, 0],\n",
       "       [0, 0, 0, 0, 1, 0, 1],\n",
       "       [0, 0, 1, 0, 0, 0, 0],\n",
       "       [0, 0, 0, 0, 0, 1, 1],\n",
       "       [0, 1, 0, 0, 0, 1, 0],\n",
       "       [0, 0, 0, 0, 1, 0, 1],\n",
       "       [0, 0, 0, 1, 0, 1, 0],\n",
       "       [0, 0, 0, 0, 1, 0, 1],\n",
       "       [0, 0, 0, 1, 1, 0, 0],\n",
       "       [0, 0, 0, 1, 0, 1, 0],\n",
       "       [1, 0, 0, 0, 0, 1, 0],\n",
       "       [0, 0, 0, 1, 1, 0, 0],\n",
       "       [0, 1, 0, 0, 1, 0, 0],\n",
       "       [0, 0, 0, 1, 0, 1, 0],\n",
       "       [0, 1, 0, 0, 1, 0, 0],\n",
       "       [0, 1, 0, 0, 0, 1, 0],\n",
       "       [1, 0, 0, 0, 0, 1, 0],\n",
       "       [0, 0, 0, 1, 1, 0, 0],\n",
       "       [0, 1, 0, 0, 0, 1, 0],\n",
       "       [1, 0, 0, 0, 0, 1, 0],\n",
       "       [0, 0, 0, 0, 1, 0, 1],\n",
       "       [0, 0, 0, 1, 0, 1, 0],\n",
       "       [0, 1, 0, 0, 1, 0, 0],\n",
       "       [1, 0, 0, 0, 1, 0, 0],\n",
       "       [0, 0, 0, 0, 0, 1, 1],\n",
       "       [0, 0, 0, 1, 1, 0, 0],\n",
       "       [0, 1, 0, 0, 0, 1, 0],\n",
       "       [1, 0, 0, 0, 0, 1, 0],\n",
       "       [0, 0, 0, 0, 1, 0, 1],\n",
       "       [0, 0, 0, 1, 0, 1, 0],\n",
       "       [0, 1, 0, 0, 1, 0, 0],\n",
       "       [1, 0, 0, 0, 1, 0, 0],\n",
       "       [0, 0, 0, 0, 0, 1, 1],\n",
       "       [0, 0, 0, 1, 1, 0, 0],\n",
       "       [0, 1, 0, 0, 0, 1, 0],\n",
       "       [1, 0, 0, 0, 0, 1, 0],\n",
       "       [0, 0, 0, 0, 1, 0, 1],\n",
       "       [0, 0, 0, 1, 0, 1, 0],\n",
       "       [0, 1, 0, 0, 1, 0, 0],\n",
       "       [1, 0, 0, 0, 1, 0, 0],\n",
       "       [0, 0, 0, 0, 0, 1, 1],\n",
       "       [0, 0, 0, 1, 1, 0, 0],\n",
       "       [0, 1, 0, 0, 0, 1, 0],\n",
       "       [1, 0, 0, 0, 0, 1, 0],\n",
       "       [0, 0, 0, 0, 1, 0, 1],\n",
       "       [0, 0, 0, 1, 0, 1, 0],\n",
       "       [0, 1, 0, 0, 1, 0, 0],\n",
       "       [1, 0, 0, 0, 1, 0, 0],\n",
       "       [0, 0, 0, 0, 0, 1, 1],\n",
       "       [0, 0, 0, 1, 1, 0, 0]])"
      ]
     },
     "execution_count": 34,
     "metadata": {
      "tags": []
     },
     "output_type": "execute_result"
    }
   ],
   "source": [
    "y"
   ]
  },
  {
   "cell_type": "code",
   "execution_count": 35,
   "metadata": {
    "colab": {
     "base_uri": "https://localhost:8080/"
    },
    "id": "I0RRZIQcZU-k",
    "outputId": "e34ca231-0725-4db9-bac3-766d44e0099a"
   },
   "outputs": [
    {
     "data": {
      "text/plain": [
       "array(['Login Failure', 'Password error', 'Password errorSeverity High',\n",
       "       'Payment Failure', 'Severity High', 'Severity Low', 'UX/UI'],\n",
       "      dtype=object)"
      ]
     },
     "execution_count": 35,
     "metadata": {
      "tags": []
     },
     "output_type": "execute_result"
    }
   ],
   "source": [
    "multilabel.classes_"
   ]
  },
  {
   "cell_type": "code",
   "execution_count": 36,
   "metadata": {
    "colab": {
     "base_uri": "https://localhost:8080/",
     "height": 419
    },
    "id": "G0MsLupzZU88",
    "outputId": "4a299504-6851-485b-cfab-aa8db89b061f"
   },
   "outputs": [
    {
     "data": {
      "text/html": [
       "<div>\n",
       "<style scoped>\n",
       "    .dataframe tbody tr th:only-of-type {\n",
       "        vertical-align: middle;\n",
       "    }\n",
       "\n",
       "    .dataframe tbody tr th {\n",
       "        vertical-align: top;\n",
       "    }\n",
       "\n",
       "    .dataframe thead th {\n",
       "        text-align: right;\n",
       "    }\n",
       "</style>\n",
       "<table border=\"1\" class=\"dataframe\">\n",
       "  <thead>\n",
       "    <tr style=\"text-align: right;\">\n",
       "      <th></th>\n",
       "      <th>Login Failure</th>\n",
       "      <th>Password error</th>\n",
       "      <th>Password errorSeverity High</th>\n",
       "      <th>Payment Failure</th>\n",
       "      <th>Severity High</th>\n",
       "      <th>Severity Low</th>\n",
       "      <th>UX/UI</th>\n",
       "    </tr>\n",
       "  </thead>\n",
       "  <tbody>\n",
       "    <tr>\n",
       "      <th>0</th>\n",
       "      <td>0</td>\n",
       "      <td>0</td>\n",
       "      <td>0</td>\n",
       "      <td>1</td>\n",
       "      <td>1</td>\n",
       "      <td>0</td>\n",
       "      <td>0</td>\n",
       "    </tr>\n",
       "    <tr>\n",
       "      <th>1</th>\n",
       "      <td>0</td>\n",
       "      <td>0</td>\n",
       "      <td>0</td>\n",
       "      <td>0</td>\n",
       "      <td>0</td>\n",
       "      <td>1</td>\n",
       "      <td>1</td>\n",
       "    </tr>\n",
       "    <tr>\n",
       "      <th>2</th>\n",
       "      <td>0</td>\n",
       "      <td>0</td>\n",
       "      <td>0</td>\n",
       "      <td>1</td>\n",
       "      <td>0</td>\n",
       "      <td>1</td>\n",
       "      <td>0</td>\n",
       "    </tr>\n",
       "    <tr>\n",
       "      <th>3</th>\n",
       "      <td>1</td>\n",
       "      <td>0</td>\n",
       "      <td>0</td>\n",
       "      <td>0</td>\n",
       "      <td>0</td>\n",
       "      <td>1</td>\n",
       "      <td>0</td>\n",
       "    </tr>\n",
       "    <tr>\n",
       "      <th>4</th>\n",
       "      <td>1</td>\n",
       "      <td>0</td>\n",
       "      <td>0</td>\n",
       "      <td>0</td>\n",
       "      <td>1</td>\n",
       "      <td>0</td>\n",
       "      <td>0</td>\n",
       "    </tr>\n",
       "    <tr>\n",
       "      <th>...</th>\n",
       "      <td>...</td>\n",
       "      <td>...</td>\n",
       "      <td>...</td>\n",
       "      <td>...</td>\n",
       "      <td>...</td>\n",
       "      <td>...</td>\n",
       "      <td>...</td>\n",
       "    </tr>\n",
       "    <tr>\n",
       "      <th>59</th>\n",
       "      <td>0</td>\n",
       "      <td>0</td>\n",
       "      <td>0</td>\n",
       "      <td>1</td>\n",
       "      <td>0</td>\n",
       "      <td>1</td>\n",
       "      <td>0</td>\n",
       "    </tr>\n",
       "    <tr>\n",
       "      <th>60</th>\n",
       "      <td>0</td>\n",
       "      <td>1</td>\n",
       "      <td>0</td>\n",
       "      <td>0</td>\n",
       "      <td>1</td>\n",
       "      <td>0</td>\n",
       "      <td>0</td>\n",
       "    </tr>\n",
       "    <tr>\n",
       "      <th>61</th>\n",
       "      <td>1</td>\n",
       "      <td>0</td>\n",
       "      <td>0</td>\n",
       "      <td>0</td>\n",
       "      <td>1</td>\n",
       "      <td>0</td>\n",
       "      <td>0</td>\n",
       "    </tr>\n",
       "    <tr>\n",
       "      <th>62</th>\n",
       "      <td>0</td>\n",
       "      <td>0</td>\n",
       "      <td>0</td>\n",
       "      <td>0</td>\n",
       "      <td>0</td>\n",
       "      <td>1</td>\n",
       "      <td>1</td>\n",
       "    </tr>\n",
       "    <tr>\n",
       "      <th>63</th>\n",
       "      <td>0</td>\n",
       "      <td>0</td>\n",
       "      <td>0</td>\n",
       "      <td>1</td>\n",
       "      <td>1</td>\n",
       "      <td>0</td>\n",
       "      <td>0</td>\n",
       "    </tr>\n",
       "  </tbody>\n",
       "</table>\n",
       "<p>64 rows × 7 columns</p>\n",
       "</div>"
      ],
      "text/plain": [
       "    Login Failure  Password error  ...  Severity Low  UX/UI\n",
       "0               0               0  ...             0      0\n",
       "1               0               0  ...             1      1\n",
       "2               0               0  ...             1      0\n",
       "3               1               0  ...             1      0\n",
       "4               1               0  ...             0      0\n",
       "..            ...             ...  ...           ...    ...\n",
       "59              0               0  ...             1      0\n",
       "60              0               1  ...             0      0\n",
       "61              1               0  ...             0      0\n",
       "62              0               0  ...             1      1\n",
       "63              0               0  ...             0      0\n",
       "\n",
       "[64 rows x 7 columns]"
      ]
     },
     "execution_count": 36,
     "metadata": {
      "tags": []
     },
     "output_type": "execute_result"
    }
   ],
   "source": [
    "pd.DataFrame(y, columns=multilabel.classes_)"
   ]
  },
  {
   "cell_type": "code",
   "execution_count": 19,
   "metadata": {
    "id": "vD5DbxTvZU1U"
   },
   "outputs": [],
   "source": [
    "# lets say you have -> l,e,t,s, , "
   ]
  },
  {
   "cell_type": "code",
   "execution_count": 37,
   "metadata": {
    "colab": {
     "base_uri": "https://localhost:8080/"
    },
    "id": "6DzxRxHRZUyW",
    "outputId": "8f478e2d-97cc-4bf6-c3fa-966bf36b5995"
   },
   "outputs": [
    {
     "data": {
      "text/plain": [
       "(64, 362)"
      ]
     },
     "execution_count": 37,
     "metadata": {
      "tags": []
     },
     "output_type": "execute_result"
    }
   ],
   "source": [
    "tfidf = TfidfVectorizer(analyzer='word', max_features=10000, ngram_range=(1,3), stop_words='english')\n",
    "X = tfidf.fit_transform(df['Text'])\n",
    "X.shape"
   ]
  },
  {
   "cell_type": "code",
   "execution_count": 38,
   "metadata": {
    "id": "ufY_2Ihbj-yw"
   },
   "outputs": [],
   "source": [
    "pickle.dump(tfidf, open(\"/content/tfidf.pkl\",\"wb\"))"
   ]
  },
  {
   "cell_type": "code",
   "execution_count": 168,
   "metadata": {
    "id": "sDUPZKTrj3_m"
   },
   "outputs": [],
   "source": [
    "# tfidf = TfidfVectorizer()\n",
    "# X = tfidf.fit_transform(df_cleaned['total'])\n",
    "# X.shape"
   ]
  },
  {
   "cell_type": "code",
   "execution_count": 39,
   "metadata": {
    "colab": {
     "base_uri": "https://localhost:8080/"
    },
    "id": "XC3iZ_YeZUw_",
    "outputId": "37aeda39-8ea7-43fb-e106-a54a68e85270"
   },
   "outputs": [
    {
     "data": {
      "text/plain": [
       "<64x362 sparse matrix of type '<class 'numpy.float64'>'\n",
       "\twith 639 stored elements in Compressed Sparse Row format>"
      ]
     },
     "execution_count": 39,
     "metadata": {
      "tags": []
     },
     "output_type": "execute_result"
    }
   ],
   "source": [
    "X"
   ]
  },
  {
   "cell_type": "code",
   "execution_count": 40,
   "metadata": {
    "id": "UZbkzr95ZUvQ"
   },
   "outputs": [],
   "source": [
    "# tfidf.vocabulary_"
   ]
  },
  {
   "cell_type": "code",
   "execution_count": 41,
   "metadata": {
    "colab": {
     "base_uri": "https://localhost:8080/"
    },
    "id": "Yd6lRL5oZUob",
    "outputId": "299d7030-5046-4b92-8f81-9d46eb36caec"
   },
   "outputs": [
    {
     "data": {
      "text/plain": [
       "((64, 362), (64, 7))"
      ]
     },
     "execution_count": 41,
     "metadata": {
      "tags": []
     },
     "output_type": "execute_result"
    }
   ],
   "source": [
    "X.shape, y.shape"
   ]
  },
  {
   "cell_type": "code",
   "execution_count": 42,
   "metadata": {
    "id": "wU2iZfzJbG3j"
   },
   "outputs": [],
   "source": [
    "X_train, X_test, y_train, y_test = train_test_split(X, y, test_size = 0.02, random_state = 0)"
   ]
  },
  {
   "cell_type": "code",
   "execution_count": 26,
   "metadata": {
    "id": "EXIiaUNXbg3D"
   },
   "outputs": [],
   "source": []
  },
  {
   "cell_type": "markdown",
   "metadata": {
    "id": "C7uD7jjucL6X"
   },
   "source": [
    "# Build Model"
   ]
  },
  {
   "cell_type": "code",
   "execution_count": 43,
   "metadata": {
    "id": "ohkgqwV2cK2F"
   },
   "outputs": [],
   "source": [
    "sgd = SGDClassifier()\n",
    "lr = LogisticRegression(solver='lbfgs')\n",
    "svc = LinearSVC()"
   ]
  },
  {
   "cell_type": "code",
   "execution_count": 44,
   "metadata": {
    "id": "C_2MEqP6eKl0"
   },
   "outputs": [],
   "source": [
    "def j_score(y_true, y_pred):\n",
    "  jaccard = np.minimum(y_true, y_pred).sum(axis = 1)/np.maximum(y_true, y_pred).sum(axis = 1)\n",
    "  return jaccard.mean()*100\n",
    "\n",
    "\n",
    "def print_score(y_pred, clf):\n",
    "  print(\"Clf: \", clf.__class__.__name__)\n",
    "  print('Jacard score: {}'.format(j_score(y_test, y_pred)))\n",
    "  print('----')"
   ]
  },
  {
   "cell_type": "code",
   "execution_count": 45,
   "metadata": {
    "colab": {
     "base_uri": "https://localhost:8080/"
    },
    "id": "YLpLcXonjhOC",
    "outputId": "cbc5bbbc-b89c-48b8-f9bb-355ba89de371"
   },
   "outputs": [
    {
     "name": "stdout",
     "output_type": "stream",
     "text": [
      "Clf:  LinearSVC\n",
      "Jacard score: 100.0\n",
      "----\n"
     ]
    }
   ],
   "source": [
    "for classifier in [LinearSVC(C=1.5, penalty = 'l1', dual=False)]:\n",
    "  clf = OneVsRestClassifier(classifier)\n",
    "  clf.fit(X_train, y_train)\n",
    "  y_pred = clf.predict(X_test)\n",
    "  print_score(y_pred, classifier)"
   ]
  },
  {
   "cell_type": "code",
   "execution_count": 46,
   "metadata": {
    "colab": {
     "base_uri": "https://localhost:8080/"
    },
    "id": "V0Vj7stLcLMv",
    "outputId": "d097ffe2-0de1-47b4-ddec-38cf66ccaae9"
   },
   "outputs": [
    {
     "name": "stdout",
     "output_type": "stream",
     "text": [
      "Clf:  SGDClassifier\n",
      "Jacard score: 41.666666666666664\n",
      "----\n",
      "Clf:  LogisticRegression\n",
      "Jacard score: 75.0\n",
      "----\n",
      "Clf:  LinearSVC\n",
      "Jacard score: 100.0\n",
      "----\n"
     ]
    }
   ],
   "source": [
    "for classifier in [sgd, lr, svc]:\n",
    "  clf = OneVsRestClassifier(classifier)\n",
    "  clf.fit(X_train, y_train)\n",
    "  y_pred = clf.predict(X_test)\n",
    "  print_score(y_pred, classifier)\n",
    "  \n"
   ]
  },
  {
   "cell_type": "markdown",
   "metadata": {
    "id": "JQPA8AZphHBj"
   },
   "source": [
    "## Model Test with Real Data"
   ]
  },
  {
   "cell_type": "code",
   "execution_count": 47,
   "metadata": {
    "colab": {
     "base_uri": "https://localhost:8080/"
    },
    "id": "UPZB9ytdMonD",
    "outputId": "5db2faac-47ab-4f2b-8270-6a295d12c8dc"
   },
   "outputs": [
    {
     "data": {
      "text/plain": [
       "['/content/modelfinal.pkl']"
      ]
     },
     "execution_count": 47,
     "metadata": {
      "tags": []
     },
     "output_type": "execute_result"
    }
   ],
   "source": [
    "import joblib\n",
    "joblib.dump(clf, \"/content/modelfinal.pkl\")"
   ]
  },
  {
   "cell_type": "code",
   "execution_count": 48,
   "metadata": {
    "id": "FtE4nF_HmKJp"
   },
   "outputs": [],
   "source": [
    "multilabel = MultiLabelBinarizer()\n",
    "y = multilabel.fit_transform(df['Tags'])\n",
    "#inverse_transform\n",
    "z=multilabel.inverse_transform(y)\n",
    "pickle.dump(multilabel, open(\"/content/multilabel.pkl\",\"wb\"))"
   ]
  },
  {
   "cell_type": "code",
   "execution_count": 49,
   "metadata": {
    "id": "mzqNYKF2NWFP"
   },
   "outputs": [],
   "source": [
    "loaded_model = joblib.load(\"/content/modelfinal.pkl\")"
   ]
  },
  {
   "cell_type": "code",
   "execution_count": 50,
   "metadata": {
    "id": "Z8I5mjj2lEza"
   },
   "outputs": [],
   "source": [
    "tfid = joblib.load(\"/content/tfidf.pkl\")"
   ]
  },
  {
   "cell_type": "code",
   "execution_count": 51,
   "metadata": {
    "id": "xpcHyqU4nO0r"
   },
   "outputs": [],
   "source": [
    "inv = joblib.load(\"/content/multilabel.pkl\")"
   ]
  },
  {
   "cell_type": "code",
   "execution_count": 64,
   "metadata": {
    "id": "nTV8_LuucK5e"
   },
   "outputs": [],
   "source": [
    "x = ['not able to create a password']"
   ]
  },
  {
   "cell_type": "code",
   "execution_count": 65,
   "metadata": {
    "id": "9yCJOALGQWto"
   },
   "outputs": [],
   "source": [
    "xt = tfid.transform(x)"
   ]
  },
  {
   "cell_type": "code",
   "execution_count": 66,
   "metadata": {
    "colab": {
     "base_uri": "https://localhost:8080/"
    },
    "id": "YyHDxv7kQaFz",
    "outputId": "51026756-5d37-488d-9105-720437cec387"
   },
   "outputs": [
    {
     "data": {
      "text/plain": [
       "array([[0, 1, 0, 0, 0, 1, 0]])"
      ]
     },
     "execution_count": 66,
     "metadata": {
      "tags": []
     },
     "output_type": "execute_result"
    }
   ],
   "source": [
    "loaded_model.predict(xt)"
   ]
  },
  {
   "cell_type": "code",
   "execution_count": 67,
   "metadata": {
    "colab": {
     "base_uri": "https://localhost:8080/"
    },
    "id": "dYmU_CUxQjOg",
    "outputId": "60300a96-50d4-4ba5-e445-7441f4cf76c1"
   },
   "outputs": [
    {
     "data": {
      "text/plain": [
       "[('Password error', 'Severity Low')]"
      ]
     },
     "execution_count": 67,
     "metadata": {
      "tags": []
     },
     "output_type": "execute_result"
    }
   ],
   "source": [
    "inv.inverse_transform(loaded_model.predict(xt))"
   ]
  }
 ],
 "metadata": {
  "accelerator": "GPU",
  "colab": {
   "name": "Multi_Label_new.ipynb",
   "provenance": []
  },
  "kernelspec": {
   "display_name": "Python 3",
   "language": "python",
   "name": "python3"
  },
  "language_info": {
   "codemirror_mode": {
    "name": "ipython",
    "version": 3
   },
   "file_extension": ".py",
   "mimetype": "text/x-python",
   "name": "python",
   "nbconvert_exporter": "python",
   "pygments_lexer": "ipython3",
   "version": "3.7.4"
  }
 },
 "nbformat": 4,
 "nbformat_minor": 1
}
